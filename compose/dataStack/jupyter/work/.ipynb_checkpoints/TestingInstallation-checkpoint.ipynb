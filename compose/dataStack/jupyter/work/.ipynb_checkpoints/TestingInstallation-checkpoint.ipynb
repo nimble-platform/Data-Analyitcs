{
 "cells": [
  {
   "cell_type": "markdown",
   "metadata": {},
   "source": [
    "# This Notebook will help to get started with the Elasticsearch connector"
   ]
  },
  {
   "cell_type": "code",
   "execution_count": 1,
   "metadata": {},
   "outputs": [],
   "source": [
    "import requests\n",
    "import pandas as pd\n",
    "import datetime\n",
    "import json"
   ]
  },
  {
   "cell_type": "code",
   "execution_count": 2,
   "metadata": {},
   "outputs": [
    {
     "name": "stdout",
     "output_type": "stream",
     "text": [
      "Last run: 2018-03-15 13:54:53.694093 UTC\n"
     ]
    }
   ],
   "source": [
    "print('Last run:', datetime.datetime.utcnow(), 'UTC')  # timezone can't be detected from browser"
   ]
  },
  {
   "cell_type": "code",
   "execution_count": 3,
   "metadata": {},
   "outputs": [
    {
     "data": {
      "text/plain": [
       "{'cluster_name': 'docker-cluster',\n",
       " 'cluster_uuid': 'fUwFe0teQu2SzKmgU37sdw',\n",
       " 'name': 'd5e57e37131c',\n",
       " 'tagline': 'You Know, for Search',\n",
       " 'version': {'build_date': '2018-02-16T19:01:30.685723Z',\n",
       "  'build_hash': '10b1edd',\n",
       "  'build_snapshot': False,\n",
       "  'lucene_version': '7.2.1',\n",
       "  'minimum_index_compatibility_version': '5.0.0',\n",
       "  'minimum_wire_compatibility_version': '5.6.0',\n",
       "  'number': '6.2.2'}}"
      ]
     },
     "execution_count": 3,
     "metadata": {},
     "output_type": "execute_result"
    }
   ],
   "source": [
    "# make sure ES is up and running\n",
    "res = requests.get('http://elasticsearch:9200')\n",
    "r=json.loads(res.content)\n",
    "r"
   ]
  },
  {
   "cell_type": "code",
   "execution_count": 4,
   "metadata": {},
   "outputs": [
    {
     "name": "stdout",
     "output_type": "stream",
     "text": [
      "Collecting elasticsearch\n",
      "  Downloading elasticsearch-6.1.1-py2.py3-none-any.whl (59kB)\n",
      "Requirement already satisfied: urllib3<1.23,>=1.21.1 in /opt/conda/lib/python3.6/site-packages (from elasticsearch)\n",
      "Installing collected packages: elasticsearch\n",
      "Successfully installed elasticsearch-6.1.1\n"
     ]
    }
   ],
   "source": [
    "%%sh\n",
    "pip install elasticsearch"
   ]
  },
  {
   "cell_type": "code",
   "execution_count": 5,
   "metadata": {},
   "outputs": [
    {
     "data": {
      "text/plain": [
       "<Elasticsearch([{'host': 'elasticsearch', 'port': 9200}])>"
      ]
     },
     "execution_count": 5,
     "metadata": {},
     "output_type": "execute_result"
    }
   ],
   "source": [
    "# connect to our cluster\n",
    "from elasticsearch import Elasticsearch\n",
    "es = Elasticsearch([{'host': 'elasticsearch', 'port': 9200}])\n",
    "es"
   ]
  },
  {
   "cell_type": "code",
   "execution_count": 9,
   "metadata": {},
   "outputs": [
    {
     "name": "stdout",
     "output_type": "stream",
     "text": [
      "{'total': 10, 'successful': 10, 'skipped': 0, 'failed': 0}\n"
     ]
    }
   ],
   "source": [
    "# Empty search to ensure it is working\n",
    "res = es.search()\n",
    "print(res[\"_shards\"])\n",
    "# res[\"hits\"][\"hits\"][-1]\n"
   ]
  },
  {
   "cell_type": "markdown",
   "metadata": {},
   "source": [
    "Display our indices and document types saved in elasticsearch."
   ]
  },
  {
   "cell_type": "code",
   "execution_count": 10,
   "metadata": {},
   "outputs": [
    {
     "name": "stdout",
     "output_type": "stream",
     "text": [
      "health status index           uuid                   pri rep docs.count docs.deleted store.size pri.store.size\r\n",
      "yellow open   data-2018.03.15 _8FTnPPNTruIhvND8lmSWQ   5   1      12654            0      2.2mb          2.2mb\r\n",
      "yellow open   logs-2018.03.15 Sek4BV4zQgusutQtwttdXw   5   1          6            0     28.5kb         28.5kb\r\n"
     ]
    }
   ],
   "source": [
    "# the prefix \"!\" is the similar to \"%%sh\"-magic, but only valid in one line\n",
    "!curl -XGET 'http://elasticsearch:9200/_cat/indices?v'"
   ]
  },
  {
   "cell_type": "code",
   "execution_count": 11,
   "metadata": {},
   "outputs": [
    {
     "name": "stdout",
     "output_type": "stream",
     "text": [
      "{\r\n",
      "  \"logs-2018.03.15\" : {\r\n",
      "    \"mappings\" : {\r\n",
      "      \"doc\" : {\r\n",
      "        \"properties\" : {\r\n",
      "          \"@timestamp\" : {\r\n",
      "            \"type\" : \"date\"\r\n",
      "          },\r\n",
      "          \"@version\" : {\r\n",
      "            \"type\" : \"text\",\r\n",
      "            \"fields\" : {\r\n",
      "              \"keyword\" : {\r\n",
      "                \"type\" : \"keyword\",\r\n",
      "                \"ignore_above\" : 256\r\n",
      "              }\r\n",
      "            }\r\n",
      "          },\r\n",
      "          \"host\" : {\r\n",
      "            \"type\" : \"text\",\r\n",
      "            \"fields\" : {\r\n",
      "              \"keyword\" : {\r\n",
      "                \"type\" : \"keyword\",\r\n",
      "                \"ignore_above\" : 256\r\n",
      "              }\r\n",
      "            }\r\n",
      "          },\r\n",
      "          \"level\" : {\r\n",
      "            \"type\" : \"text\",\r\n",
      "            \"fields\" : {\r\n",
      "              \"keyword\" : {\r\n",
      "                \"type\" : \"keyword\",\r\n",
      "                \"ignore_above\" : 256\r\n",
      "              }\r\n",
      "            }\r\n",
      "          },\r\n",
      "          \"logger_name\" : {\r\n",
      "            \"type\" : \"text\",\r\n",
      "            \"fields\" : {\r\n",
      "              \"keyword\" : {\r\n",
      "                \"type\" : \"keyword\",\r\n",
      "                \"ignore_above\" : 256\r\n",
      "              }\r\n",
      "            }\r\n",
      "          },\r\n",
      "          \"message\" : {\r\n",
      "            \"type\" : \"text\",\r\n",
      "            \"fields\" : {\r\n",
      "              \"keyword\" : {\r\n",
      "                \"type\" : \"keyword\",\r\n",
      "                \"ignore_above\" : 256\r\n",
      "              }\r\n",
      "            }\r\n",
      "          },\r\n",
      "          \"path\" : {\r\n",
      "            \"type\" : \"text\",\r\n",
      "            \"fields\" : {\r\n",
      "              \"keyword\" : {\r\n",
      "                \"type\" : \"keyword\",\r\n",
      "                \"ignore_above\" : 256\r\n",
      "              }\r\n",
      "            }\r\n",
      "          },\r\n",
      "          \"port\" : {\r\n",
      "            \"type\" : \"long\"\r\n",
      "          },\r\n",
      "          \"type\" : {\r\n",
      "            \"type\" : \"text\",\r\n",
      "            \"fields\" : {\r\n",
      "              \"keyword\" : {\r\n",
      "                \"type\" : \"keyword\",\r\n",
      "                \"ignore_above\" : 256\r\n",
      "              }\r\n",
      "            }\r\n",
      "          }\r\n",
      "        }\r\n",
      "      }\r\n",
      "    }\r\n",
      "  }\r\n",
      "}\r\n"
     ]
    }
   ],
   "source": [
    "!curl -XGET 'http://elasticsearch:9200/logs*/_mapping?pretty=true'"
   ]
  },
  {
   "cell_type": "code",
   "execution_count": 12,
   "metadata": {},
   "outputs": [
    {
     "data": {
      "text/plain": [
       "[['logs-2018.03.15', 'doc'], ['data-2018.03.15', 'doc']]"
      ]
     },
     "execution_count": 12,
     "metadata": {},
     "output_type": "execute_result"
    }
   ],
   "source": [
    "import subprocess\n",
    "output = subprocess.check_output('curl -s -XGET \"http://elasticsearch:9200/_all/_mapping\"', shell=True)\n",
    "output = json.loads(output)\n",
    "\n",
    "indices = list(output.keys())\n",
    "indices = [[index, typ] for index in indices for typ in output.get(index).get(\"mappings\")]\n",
    "list(indices)"
   ]
  },
  {
   "cell_type": "code",
   "execution_count": 13,
   "metadata": {},
   "outputs": [],
   "source": [
    "# Problems with finding the document type for a given index pattern\n",
    "#res = es.get(index=\"logstash-2018.02.07\", doc_type='doc', id=1)\n",
    "#print(res['_source'])\n"
   ]
  },
  {
   "cell_type": "code",
   "execution_count": null,
   "metadata": {},
   "outputs": [],
   "source": [
    "# Elasticsearch-hadoop comes with demo data indexed as \"sw\".\n",
    "# let's iterate over swapi people documents and index them\n",
    "import json\n",
    "r = requests.get('http://elasticsearch:9200') \n",
    "i = 1\n",
    "while r.status_code == 200:\n",
    "    r = requests.get('http://swapi.co/api/people/'+ str(i))\n",
    "    es.index(index='sw', doc_type='people', id=i, body=json.loads(r.content))\n",
    "    i=i+1\n",
    " \n",
    "print(i)"
   ]
  },
  {
   "cell_type": "code",
   "execution_count": null,
   "metadata": {},
   "outputs": [],
   "source": [
    "es.get(index='sw', doc_type='people', id=4)"
   ]
  },
  {
   "cell_type": "code",
   "execution_count": null,
   "metadata": {},
   "outputs": [],
   "source": [
    "help(es.search)"
   ]
  },
  {
   "cell_type": "code",
   "execution_count": null,
   "metadata": {},
   "outputs": [],
   "source": [
    "# show all results:\n",
    "res = es.search(index=\"logs*\", body={\"query\": {\"match_all\": {}}})\n",
    "print(\"Got %d Hits:\" % res['hits']['total'])\n",
    "for hit in res['hits']['hits']:\n",
    "    print(\"Timestamp: {}, \\tmetric: {}, \\tresult: {}\\n\".format(hit[\"_source\"][\"phenomenonTime\"], \n",
    "            hit[\"_source\"][\"Datastream\"][\"name\"], hit[\"_source\"][\"result\"]))"
   ]
  },
  {
   "cell_type": "code",
   "execution_count": 124,
   "metadata": {},
   "outputs": [
    {
     "data": {
      "text/plain": [
       "{'_id': 'CNoTcGEBlla6BUCF_xmK',\n",
       " '_index': 'logstash-2018.02.07',\n",
       " '_score': 1.0,\n",
       " '_source': {'@timestamp': '2018-02-07T11:43:29.411Z',\n",
       "  '@version': '1',\n",
       "  'Datastream': {'@iot.id': 24,\n",
       "   'URI': 'http://il060:8082/v1.0/Datastreams(24)',\n",
       "   'name': 'Temp622'},\n",
       "  'host': 'iot86',\n",
       "  'level': 'INFO',\n",
       "  'logger_name': 'localtest.SensorData',\n",
       "  'message': '',\n",
       "  'path': '/mnt/D/sr_config/cschranz/Dokumente/GitHub/i-Maintenance/DB-Adapter/kafka-logstash-adapter/src/db-adapter.py',\n",
       "  'phenomenonTime': '2018-01-30T19:11:03.901000+00:00',\n",
       "  'port': 39864,\n",
       "  'result': 24.48342,\n",
       "  'resultTime': '2018-01-30T19:11:22.359975+00:00',\n",
       "  'stack_info': None,\n",
       "  'tags': [],\n",
       "  'type': 'logstash'},\n",
       " '_type': 'doc'}"
      ]
     },
     "execution_count": 124,
     "metadata": {},
     "output_type": "execute_result"
    }
   ],
   "source": [
    "hit"
   ]
  },
  {
   "cell_type": "code",
   "execution_count": 125,
   "metadata": {},
   "outputs": [
    {
     "name": "stdout",
     "output_type": "stream",
     "text": [
      "Got 0 Hits:\n"
     ]
    }
   ],
   "source": [
    "# The results of metric testdata from the last 1 hour\n",
    "body = {\n",
    "  \"query\": {\n",
    "    \"bool\": {\n",
    "      \"must\": [\n",
    "        {\"range\" : {\n",
    "            \"phenomenonTime\" : {\n",
    "                #\"gte\": \"2018-02-20T09:08:34.230693+00:00\", \n",
    "                \"gte\": \"now-1h\",\n",
    "                \"lte\": \"now\", \n",
    "                \"time_zone\": \"+01:00\"\n",
    "            }\n",
    "        }},\n",
    "        {\"match\": {\n",
    "            \"Datastream.name.keyword\": {\n",
    "                \"query\": \"testdata\"\n",
    "              }\n",
    "        }}\n",
    "      ]\n",
    "    }\n",
    "  }\n",
    "}\n",
    "res = es.search(index=\"logs*\", body=body)\n",
    "print(\"Got %d Hits:\" % res['hits']['total'])\n",
    "for hit in res['hits']['hits']:\n",
    "    print(\"Timestamp: {}, \\tmetric: {}, \\tresult: {}\\n\".format(hit[\"_source\"][\"phenomenonTime\"], \n",
    "            hit[\"_source\"][\"Datastream\"][\"name\"], hit[\"_source\"][\"result\"]))"
   ]
  },
  {
   "cell_type": "markdown",
   "metadata": {},
   "source": [
    "# Visualize Data"
   ]
  },
  {
   "cell_type": "code",
   "execution_count": 126,
   "metadata": {},
   "outputs": [],
   "source": [
    "import matplotlib.pyplot as plt\n",
    "import numpy as np"
   ]
  },
  {
   "cell_type": "code",
   "execution_count": 127,
   "metadata": {},
   "outputs": [
    {
     "data": {
      "text/plain": [
       "{'_id': 'xpkouGEB8neLl1DXdbhi',\n",
       " '_index': 'logstash-2018.02.21',\n",
       " '_score': 1.000328,\n",
       " '_source': {'@timestamp': '2018-02-21T11:38:34.618Z',\n",
       "  '@version': '1',\n",
       "  'Datastream': {'@iot.id': 0, 'name': 'testdata'},\n",
       "  'host': 'iot86',\n",
       "  'level': 'INFO',\n",
       "  'logger_name': 'testlogger',\n",
       "  'message': '',\n",
       "  'path': '/mnt/D/sr_config/cschranz/Dokumente/GitHub/i-Maintenance/DB-Adapter/kafka-logstash-adapter/src/test-feeder_db-adapter.py',\n",
       "  'phenomenonTime': '2018-02-21T11:38:34.618017+00:00',\n",
       "  'port': 51464,\n",
       "  'result': 0.24138821805550223,\n",
       "  'resultTime': '2018-02-07T08:40:51.273061+00:00',\n",
       "  'stack_info': None,\n",
       "  'tags': [],\n",
       "  'type': 'logstash'},\n",
       " '_type': 'doc'}"
      ]
     },
     "execution_count": 127,
     "metadata": {},
     "output_type": "execute_result"
    }
   ],
   "source": [
    "# The results from the last 1 hour\n",
    "body = {\n",
    "  \"size\": 10000,\n",
    "  \"query\": {\n",
    "    \"bool\": {\n",
    "      \"must\": [\n",
    "        {\"range\" : {\n",
    "            \"phenomenonTime\" : {\n",
    "                #\"gte\": \"2018-02-20T09:08:34.230693+00:00\", \n",
    "                \"gte\": \"now-6h\",\n",
    "                \"lte\": \"now\", \n",
    "                \"time_zone\": \"+01:00\"\n",
    "            }\n",
    "        }},\n",
    "        {\"match\": {\n",
    "            \"Datastream.name.keyword\": {\n",
    "                \"query\": \"testdata\"\n",
    "              }\n",
    "        }}\n",
    "      ]\n",
    "    }\n",
    "  }\n",
    "}\n",
    "res = es.search(index=\"logs*\", body=body)\n",
    "res[\"hits\"][\"hits\"][-1]"
   ]
  },
  {
   "cell_type": "code",
   "execution_count": 128,
   "metadata": {},
   "outputs": [
    {
     "name": "stdout",
     "output_type": "stream",
     "text": [
      "(886, 15)\n"
     ]
    },
    {
     "data": {
      "text/html": [
       "<div>\n",
       "<table border=\"1\" class=\"dataframe\">\n",
       "  <thead>\n",
       "    <tr style=\"text-align: right;\">\n",
       "      <th></th>\n",
       "      <th>@timestamp</th>\n",
       "      <th>@version</th>\n",
       "      <th>Datastream</th>\n",
       "      <th>host</th>\n",
       "      <th>level</th>\n",
       "      <th>logger_name</th>\n",
       "      <th>message</th>\n",
       "      <th>path</th>\n",
       "      <th>phenomenonTime</th>\n",
       "      <th>port</th>\n",
       "      <th>result</th>\n",
       "      <th>resultTime</th>\n",
       "      <th>stack_info</th>\n",
       "      <th>tags</th>\n",
       "      <th>type</th>\n",
       "    </tr>\n",
       "    <tr>\n",
       "      <th>phenomenonTime</th>\n",
       "      <th></th>\n",
       "      <th></th>\n",
       "      <th></th>\n",
       "      <th></th>\n",
       "      <th></th>\n",
       "      <th></th>\n",
       "      <th></th>\n",
       "      <th></th>\n",
       "      <th></th>\n",
       "      <th></th>\n",
       "      <th></th>\n",
       "      <th></th>\n",
       "      <th></th>\n",
       "      <th></th>\n",
       "      <th></th>\n",
       "    </tr>\n",
       "  </thead>\n",
       "  <tbody>\n",
       "    <tr>\n",
       "      <th>2018-02-21 09:41:50.604450</th>\n",
       "      <td>2018-02-21T09:41:50.604Z</td>\n",
       "      <td>1</td>\n",
       "      <td>{'name': 'testdata', '@iot.id': 0}</td>\n",
       "      <td>iot86</td>\n",
       "      <td>INFO</td>\n",
       "      <td>testlogger</td>\n",
       "      <td></td>\n",
       "      <td>/mnt/D/sr_config/cschranz/Dokumente/GitHub/i-M...</td>\n",
       "      <td>2018-02-21T09:41:50.604450+00:00</td>\n",
       "      <td>51122</td>\n",
       "      <td>-0.217170</td>\n",
       "      <td>2018-02-07T08:40:51.273061+00:00</td>\n",
       "      <td>None</td>\n",
       "      <td>[]</td>\n",
       "      <td>logstash</td>\n",
       "    </tr>\n",
       "    <tr>\n",
       "      <th>2018-02-21 09:43:30.693239</th>\n",
       "      <td>2018-02-21T09:43:30.693Z</td>\n",
       "      <td>1</td>\n",
       "      <td>{'name': 'testdata', '@iot.id': 0}</td>\n",
       "      <td>iot86</td>\n",
       "      <td>INFO</td>\n",
       "      <td>testlogger</td>\n",
       "      <td></td>\n",
       "      <td>/mnt/D/sr_config/cschranz/Dokumente/GitHub/i-M...</td>\n",
       "      <td>2018-02-21T09:43:30.693239+00:00</td>\n",
       "      <td>51122</td>\n",
       "      <td>-0.127345</td>\n",
       "      <td>2018-02-07T08:40:51.273061+00:00</td>\n",
       "      <td>None</td>\n",
       "      <td>[]</td>\n",
       "      <td>logstash</td>\n",
       "    </tr>\n",
       "    <tr>\n",
       "      <th>2018-02-21 09:41:35.587566</th>\n",
       "      <td>2018-02-21T09:41:35.587Z</td>\n",
       "      <td>1</td>\n",
       "      <td>{'name': 'testdata', '@iot.id': 0}</td>\n",
       "      <td>iot86</td>\n",
       "      <td>INFO</td>\n",
       "      <td>testlogger</td>\n",
       "      <td></td>\n",
       "      <td>/mnt/D/sr_config/cschranz/Dokumente/GitHub/i-M...</td>\n",
       "      <td>2018-02-21T09:41:35.587566+00:00</td>\n",
       "      <td>51122</td>\n",
       "      <td>-1.253339</td>\n",
       "      <td>2018-02-07T08:40:51.273061+00:00</td>\n",
       "      <td>None</td>\n",
       "      <td>[]</td>\n",
       "      <td>logstash</td>\n",
       "    </tr>\n",
       "    <tr>\n",
       "      <th>2018-02-21 09:42:45.650777</th>\n",
       "      <td>2018-02-21T09:42:45.651Z</td>\n",
       "      <td>1</td>\n",
       "      <td>{'name': 'testdata', '@iot.id': 0}</td>\n",
       "      <td>iot86</td>\n",
       "      <td>INFO</td>\n",
       "      <td>testlogger</td>\n",
       "      <td></td>\n",
       "      <td>/mnt/D/sr_config/cschranz/Dokumente/GitHub/i-M...</td>\n",
       "      <td>2018-02-21T09:42:45.650777+00:00</td>\n",
       "      <td>51122</td>\n",
       "      <td>0.471334</td>\n",
       "      <td>2018-02-07T08:40:51.273061+00:00</td>\n",
       "      <td>None</td>\n",
       "      <td>[]</td>\n",
       "      <td>logstash</td>\n",
       "    </tr>\n",
       "    <tr>\n",
       "      <th>2018-02-21 09:43:40.705836</th>\n",
       "      <td>2018-02-21T09:43:40.706Z</td>\n",
       "      <td>1</td>\n",
       "      <td>{'name': 'testdata', '@iot.id': 0}</td>\n",
       "      <td>iot86</td>\n",
       "      <td>INFO</td>\n",
       "      <td>testlogger</td>\n",
       "      <td></td>\n",
       "      <td>/mnt/D/sr_config/cschranz/Dokumente/GitHub/i-M...</td>\n",
       "      <td>2018-02-21T09:43:40.705836+00:00</td>\n",
       "      <td>51122</td>\n",
       "      <td>0.662781</td>\n",
       "      <td>2018-02-07T08:40:51.273061+00:00</td>\n",
       "      <td>None</td>\n",
       "      <td>[]</td>\n",
       "      <td>logstash</td>\n",
       "    </tr>\n",
       "  </tbody>\n",
       "</table>\n",
       "</div>"
      ],
      "text/plain": [
       "                                          @timestamp @version  \\\n",
       "phenomenonTime                                                  \n",
       "2018-02-21 09:41:50.604450  2018-02-21T09:41:50.604Z        1   \n",
       "2018-02-21 09:43:30.693239  2018-02-21T09:43:30.693Z        1   \n",
       "2018-02-21 09:41:35.587566  2018-02-21T09:41:35.587Z        1   \n",
       "2018-02-21 09:42:45.650777  2018-02-21T09:42:45.651Z        1   \n",
       "2018-02-21 09:43:40.705836  2018-02-21T09:43:40.706Z        1   \n",
       "\n",
       "                                                    Datastream   host level  \\\n",
       "phenomenonTime                                                                \n",
       "2018-02-21 09:41:50.604450  {'name': 'testdata', '@iot.id': 0}  iot86  INFO   \n",
       "2018-02-21 09:43:30.693239  {'name': 'testdata', '@iot.id': 0}  iot86  INFO   \n",
       "2018-02-21 09:41:35.587566  {'name': 'testdata', '@iot.id': 0}  iot86  INFO   \n",
       "2018-02-21 09:42:45.650777  {'name': 'testdata', '@iot.id': 0}  iot86  INFO   \n",
       "2018-02-21 09:43:40.705836  {'name': 'testdata', '@iot.id': 0}  iot86  INFO   \n",
       "\n",
       "                           logger_name message  \\\n",
       "phenomenonTime                                   \n",
       "2018-02-21 09:41:50.604450  testlogger           \n",
       "2018-02-21 09:43:30.693239  testlogger           \n",
       "2018-02-21 09:41:35.587566  testlogger           \n",
       "2018-02-21 09:42:45.650777  testlogger           \n",
       "2018-02-21 09:43:40.705836  testlogger           \n",
       "\n",
       "                                                                         path  \\\n",
       "phenomenonTime                                                                  \n",
       "2018-02-21 09:41:50.604450  /mnt/D/sr_config/cschranz/Dokumente/GitHub/i-M...   \n",
       "2018-02-21 09:43:30.693239  /mnt/D/sr_config/cschranz/Dokumente/GitHub/i-M...   \n",
       "2018-02-21 09:41:35.587566  /mnt/D/sr_config/cschranz/Dokumente/GitHub/i-M...   \n",
       "2018-02-21 09:42:45.650777  /mnt/D/sr_config/cschranz/Dokumente/GitHub/i-M...   \n",
       "2018-02-21 09:43:40.705836  /mnt/D/sr_config/cschranz/Dokumente/GitHub/i-M...   \n",
       "\n",
       "                                              phenomenonTime   port    result  \\\n",
       "phenomenonTime                                                                  \n",
       "2018-02-21 09:41:50.604450  2018-02-21T09:41:50.604450+00:00  51122 -0.217170   \n",
       "2018-02-21 09:43:30.693239  2018-02-21T09:43:30.693239+00:00  51122 -0.127345   \n",
       "2018-02-21 09:41:35.587566  2018-02-21T09:41:35.587566+00:00  51122 -1.253339   \n",
       "2018-02-21 09:42:45.650777  2018-02-21T09:42:45.650777+00:00  51122  0.471334   \n",
       "2018-02-21 09:43:40.705836  2018-02-21T09:43:40.705836+00:00  51122  0.662781   \n",
       "\n",
       "                                                  resultTime stack_info tags  \\\n",
       "phenomenonTime                                                                 \n",
       "2018-02-21 09:41:50.604450  2018-02-07T08:40:51.273061+00:00       None   []   \n",
       "2018-02-21 09:43:30.693239  2018-02-07T08:40:51.273061+00:00       None   []   \n",
       "2018-02-21 09:41:35.587566  2018-02-07T08:40:51.273061+00:00       None   []   \n",
       "2018-02-21 09:42:45.650777  2018-02-07T08:40:51.273061+00:00       None   []   \n",
       "2018-02-21 09:43:40.705836  2018-02-07T08:40:51.273061+00:00       None   []   \n",
       "\n",
       "                                type  \n",
       "phenomenonTime                        \n",
       "2018-02-21 09:41:50.604450  logstash  \n",
       "2018-02-21 09:43:30.693239  logstash  \n",
       "2018-02-21 09:41:35.587566  logstash  \n",
       "2018-02-21 09:42:45.650777  logstash  \n",
       "2018-02-21 09:43:40.705836  logstash  "
      ]
     },
     "execution_count": 128,
     "metadata": {},
     "output_type": "execute_result"
    }
   ],
   "source": [
    "data = [row[\"_source\"] for row in res[\"hits\"][\"hits\"]]\n",
    "#data = [[row[\"phenomenonTime\"], row[\"Datastream\"][\"@iot.id\"], row[\"result\"]] for row in data]\n",
    "\n",
    "df = pd.DataFrame(data)#, columns=[\"phenomenonTime\", \"Datastream.@iot.id\", \"result\"])\n",
    "df.index = pd.to_datetime(df[\"phenomenonTime\"])\n",
    "print(df.shape)\n",
    "df.head()"
   ]
  },
  {
   "cell_type": "code",
   "execution_count": 129,
   "metadata": {},
   "outputs": [
    {
     "name": "stdout",
     "output_type": "stream",
     "text": [
      "Min: -3.5988687211825394, max: 3.195018326541276, mu: -0.01919631026629814, std: 0.9934466809448999\n"
     ]
    },
    {
     "data": {
      "image/png": "[encoded data removed]",
      "text/plain": [
       "<matplotlib.figure.Figure at 0x7ffb0bf519b0>"
      ]
     },
     "metadata": {},
     "output_type": "display_data"
    }
   ],
   "source": [
    "print(\"Min: {}, max: {}, mu: {}, std: {}\".format(\n",
    "df[\"result\"].min(), df[\"result\"].max(), df[\"result\"].mean(), df[\"result\"].std()))\n",
    "df[\"result\"].plot.hist(bins=100)\n",
    "plt.show()"
   ]
  },
  {
   "cell_type": "code",
   "execution_count": 130,
   "metadata": {},
   "outputs": [
    {
     "data": {
      "image/png": "[encoded data removed]",
      "text/plain": [
       "<matplotlib.figure.Figure at 0x7ffb0bd2e908>"
      ]
     },
     "metadata": {},
     "output_type": "display_data"
    }
   ],
   "source": [
    "# Timeline for the dataframe\n",
    "df[\"result\"].plot()\n",
    "plt.show()"
   ]
  },
  {
   "cell_type": "markdown",
   "metadata": {},
   "source": [
    "# Create a new Index from the Notebook"
   ]
  },
  {
   "cell_type": "code",
   "execution_count": 131,
   "metadata": {},
   "outputs": [],
   "source": [
    "doc = {\n",
    "    'author': 'kimchy',\n",
    "    'text': 'Elasticsearch: cool. bonsai cool.',\n",
    "    'timestamp': datetime.datetime.now(),\n",
    "}\n",
    "res = es.index(index=\"test-index\", doc_type='tweet', id=1, body=doc)\n",
    "#print(res['created'])"
   ]
  },
  {
   "cell_type": "code",
   "execution_count": 132,
   "metadata": {},
   "outputs": [
    {
     "data": {
      "text/plain": [
       "{'_id': '1',\n",
       " '_index': 'test-index',\n",
       " '_source': {'author': 'kimchy',\n",
       "  'text': 'Elasticsearch: cool. bonsai cool.',\n",
       "  'timestamp': '2018-02-21T15:41:20.520737'},\n",
       " '_type': 'tweet',\n",
       " '_version': 10,\n",
       " 'found': True}"
      ]
     },
     "execution_count": 132,
     "metadata": {},
     "output_type": "execute_result"
    }
   ],
   "source": [
    "# the version iterates over the data\n",
    "es.get(index=\"test-index\", doc_type='tweet', id=1)"
   ]
  },
  {
   "cell_type": "code",
   "execution_count": 133,
   "metadata": {},
   "outputs": [
    {
     "data": {
      "text/plain": [
       "{'_shards': {'failed': 0, 'successful': 5, 'total': 10}}"
      ]
     },
     "execution_count": 133,
     "metadata": {},
     "output_type": "execute_result"
    }
   ],
   "source": [
    "es.indices.refresh(index=\"test-index*\")"
   ]
  },
  {
   "cell_type": "markdown",
   "metadata": {},
   "source": [
    "# Connector to Spark"
   ]
  },
  {
   "cell_type": "code",
   "execution_count": 134,
   "metadata": {},
   "outputs": [
    {
     "data": {
      "text/html": [
       "<div>\n",
       "<table border=\"1\" class=\"dataframe\">\n",
       "  <thead>\n",
       "    <tr style=\"text-align: right;\">\n",
       "      <th></th>\n",
       "      <th>@timestamp</th>\n",
       "      <th>@version</th>\n",
       "      <th>Datastream</th>\n",
       "      <th>host</th>\n",
       "      <th>level</th>\n",
       "      <th>logger_name</th>\n",
       "      <th>message</th>\n",
       "      <th>path</th>\n",
       "      <th>phenomenonTime</th>\n",
       "      <th>port</th>\n",
       "      <th>result</th>\n",
       "      <th>resultTime</th>\n",
       "      <th>stack_info</th>\n",
       "      <th>tags</th>\n",
       "      <th>type</th>\n",
       "    </tr>\n",
       "    <tr>\n",
       "      <th>phenomenonTime</th>\n",
       "      <th></th>\n",
       "      <th></th>\n",
       "      <th></th>\n",
       "      <th></th>\n",
       "      <th></th>\n",
       "      <th></th>\n",
       "      <th></th>\n",
       "      <th></th>\n",
       "      <th></th>\n",
       "      <th></th>\n",
       "      <th></th>\n",
       "      <th></th>\n",
       "      <th></th>\n",
       "      <th></th>\n",
       "      <th></th>\n",
       "    </tr>\n",
       "  </thead>\n",
       "  <tbody>\n",
       "    <tr>\n",
       "      <th>2018-02-21 09:41:50.604450</th>\n",
       "      <td>2018-02-21T09:41:50.604Z</td>\n",
       "      <td>1</td>\n",
       "      <td>{'name': 'testdata', '@iot.id': 0}</td>\n",
       "      <td>iot86</td>\n",
       "      <td>INFO</td>\n",
       "      <td>testlogger</td>\n",
       "      <td></td>\n",
       "      <td>/mnt/D/sr_config/cschranz/Dokumente/GitHub/i-M...</td>\n",
       "      <td>2018-02-21T09:41:50.604450+00:00</td>\n",
       "      <td>51122</td>\n",
       "      <td>-0.217170</td>\n",
       "      <td>2018-02-07T08:40:51.273061+00:00</td>\n",
       "      <td>None</td>\n",
       "      <td>[]</td>\n",
       "      <td>logstash</td>\n",
       "    </tr>\n",
       "    <tr>\n",
       "      <th>2018-02-21 09:43:30.693239</th>\n",
       "      <td>2018-02-21T09:43:30.693Z</td>\n",
       "      <td>1</td>\n",
       "      <td>{'name': 'testdata', '@iot.id': 0}</td>\n",
       "      <td>iot86</td>\n",
       "      <td>INFO</td>\n",
       "      <td>testlogger</td>\n",
       "      <td></td>\n",
       "      <td>/mnt/D/sr_config/cschranz/Dokumente/GitHub/i-M...</td>\n",
       "      <td>2018-02-21T09:43:30.693239+00:00</td>\n",
       "      <td>51122</td>\n",
       "      <td>-0.127345</td>\n",
       "      <td>2018-02-07T08:40:51.273061+00:00</td>\n",
       "      <td>None</td>\n",
       "      <td>[]</td>\n",
       "      <td>logstash</td>\n",
       "    </tr>\n",
       "    <tr>\n",
       "      <th>2018-02-21 09:41:35.587566</th>\n",
       "      <td>2018-02-21T09:41:35.587Z</td>\n",
       "      <td>1</td>\n",
       "      <td>{'name': 'testdata', '@iot.id': 0}</td>\n",
       "      <td>iot86</td>\n",
       "      <td>INFO</td>\n",
       "      <td>testlogger</td>\n",
       "      <td></td>\n",
       "      <td>/mnt/D/sr_config/cschranz/Dokumente/GitHub/i-M...</td>\n",
       "      <td>2018-02-21T09:41:35.587566+00:00</td>\n",
       "      <td>51122</td>\n",
       "      <td>-1.253339</td>\n",
       "      <td>2018-02-07T08:40:51.273061+00:00</td>\n",
       "      <td>None</td>\n",
       "      <td>[]</td>\n",
       "      <td>logstash</td>\n",
       "    </tr>\n",
       "  </tbody>\n",
       "</table>\n",
       "</div>"
      ],
      "text/plain": [
       "                                          @timestamp @version  \\\n",
       "phenomenonTime                                                  \n",
       "2018-02-21 09:41:50.604450  2018-02-21T09:41:50.604Z        1   \n",
       "2018-02-21 09:43:30.693239  2018-02-21T09:43:30.693Z        1   \n",
       "2018-02-21 09:41:35.587566  2018-02-21T09:41:35.587Z        1   \n",
       "\n",
       "                                                    Datastream   host level  \\\n",
       "phenomenonTime                                                                \n",
       "2018-02-21 09:41:50.604450  {'name': 'testdata', '@iot.id': 0}  iot86  INFO   \n",
       "2018-02-21 09:43:30.693239  {'name': 'testdata', '@iot.id': 0}  iot86  INFO   \n",
       "2018-02-21 09:41:35.587566  {'name': 'testdata', '@iot.id': 0}  iot86  INFO   \n",
       "\n",
       "                           logger_name message  \\\n",
       "phenomenonTime                                   \n",
       "2018-02-21 09:41:50.604450  testlogger           \n",
       "2018-02-21 09:43:30.693239  testlogger           \n",
       "2018-02-21 09:41:35.587566  testlogger           \n",
       "\n",
       "                                                                         path  \\\n",
       "phenomenonTime                                                                  \n",
       "2018-02-21 09:41:50.604450  /mnt/D/sr_config/cschranz/Dokumente/GitHub/i-M...   \n",
       "2018-02-21 09:43:30.693239  /mnt/D/sr_config/cschranz/Dokumente/GitHub/i-M...   \n",
       "2018-02-21 09:41:35.587566  /mnt/D/sr_config/cschranz/Dokumente/GitHub/i-M...   \n",
       "\n",
       "                                              phenomenonTime   port    result  \\\n",
       "phenomenonTime                                                                  \n",
       "2018-02-21 09:41:50.604450  2018-02-21T09:41:50.604450+00:00  51122 -0.217170   \n",
       "2018-02-21 09:43:30.693239  2018-02-21T09:43:30.693239+00:00  51122 -0.127345   \n",
       "2018-02-21 09:41:35.587566  2018-02-21T09:41:35.587566+00:00  51122 -1.253339   \n",
       "\n",
       "                                                  resultTime stack_info tags  \\\n",
       "phenomenonTime                                                                 \n",
       "2018-02-21 09:41:50.604450  2018-02-07T08:40:51.273061+00:00       None   []   \n",
       "2018-02-21 09:43:30.693239  2018-02-07T08:40:51.273061+00:00       None   []   \n",
       "2018-02-21 09:41:35.587566  2018-02-07T08:40:51.273061+00:00       None   []   \n",
       "\n",
       "                                type  \n",
       "phenomenonTime                        \n",
       "2018-02-21 09:41:50.604450  logstash  \n",
       "2018-02-21 09:43:30.693239  logstash  \n",
       "2018-02-21 09:41:35.587566  logstash  "
      ]
     },
     "execution_count": 134,
     "metadata": {},
     "output_type": "execute_result"
    }
   ],
   "source": [
    "df.head(3)"
   ]
  },
  {
   "cell_type": "code",
   "execution_count": 135,
   "metadata": {},
   "outputs": [
    {
     "data": {
      "text/html": [
       "\n",
       "        <div>\n",
       "            <p><b>SparkContext</b></p>\n",
       "\n",
       "            <p><a href=\"http://172.19.0.6:4041\">Spark UI</a></p>\n",
       "\n",
       "            <dl>\n",
       "              <dt>Version</dt>\n",
       "                <dd><code>v2.2.0</code></dd>\n",
       "              <dt>Master</dt>\n",
       "                <dd><code>local[*]</code></dd>\n",
       "              <dt>AppName</dt>\n",
       "                <dd><code>pyspark-shell</code></dd>\n",
       "            </dl>\n",
       "        </div>\n",
       "        "
      ],
      "text/plain": [
       "<SparkContext master=local[*] appName=pyspark-shell>"
      ]
     },
     "execution_count": 135,
     "metadata": {},
     "output_type": "execute_result"
    }
   ],
   "source": [
    "import pyspark\n",
    "sc = pyspark.SparkContext.getOrCreate()\n",
    "sc\n"
   ]
  },
  {
   "cell_type": "code",
   "execution_count": 136,
   "metadata": {
    "scrolled": true
   },
   "outputs": [
    {
     "name": "stdout",
     "output_type": "stream",
     "text": [
      "+--------------------+--------+--------------------+-----+-----+-----------+-------+--------------------+--------------------+-----+---------------+--------------------+----------+----+--------+\n",
      "|          @timestamp|@version|          Datastream| host|level|logger_name|message|                path|      phenomenonTime| port|         result|          resultTime|stack_info|tags|    type|\n",
      "+--------------------+--------+--------------------+-----+-----+-----------+-------+--------------------+--------------------+-----+---------------+--------------------+----------+----+--------+\n",
      "|2018-02-21T09:41:...|       1|{'name': 'testdat...|iot86| INFO| testlogger|       |/mnt/D/sr_config/...|2018-02-21T09:41:...|51122|-0.217169713979|2018-02-07T08:40:...|      None|  []|logstash|\n",
      "|2018-02-21T09:43:...|       1|{'name': 'testdat...|iot86| INFO| testlogger|       |/mnt/D/sr_config/...|2018-02-21T09:43:...|51122|-0.127344764336|2018-02-07T08:40:...|      None|  []|logstash|\n",
      "|2018-02-21T09:41:...|       1|{'name': 'testdat...|iot86| INFO| testlogger|       |/mnt/D/sr_config/...|2018-02-21T09:41:...|51122| -1.25333916097|2018-02-07T08:40:...|      None|  []|logstash|\n",
      "|2018-02-21T09:42:...|       1|{'name': 'testdat...|iot86| INFO| testlogger|       |/mnt/D/sr_config/...|2018-02-21T09:42:...|51122| 0.471333877316|2018-02-07T08:40:...|      None|  []|logstash|\n",
      "|2018-02-21T09:43:...|       1|{'name': 'testdat...|iot86| INFO| testlogger|       |/mnt/D/sr_config/...|2018-02-21T09:43:...|51122| 0.662781013102|2018-02-07T08:40:...|      None|  []|logstash|\n",
      "+--------------------+--------+--------------------+-----+-----+-----------+-------+--------------------+--------------------+-----+---------------+--------------------+----------+----+--------+\n",
      "only showing top 5 rows\n",
      "\n"
     ]
    }
   ],
   "source": [
    "# create pyspark-dataFrame\n",
    "sqlCtx = pyspark.SQLContext(sc)\n",
    "sdf = sqlCtx.createDataFrame(df.astype(str))\n",
    "sdf.show(5)"
   ]
  },
  {
   "cell_type": "code",
   "execution_count": 137,
   "metadata": {},
   "outputs": [
    {
     "data": {
      "text/plain": [
       "Row(@timestamp='2018-02-21T09:41:50.604Z', @version='1', Datastream=\"{'name': 'testdata', '@iot.id': 0}\", host='iot86', level='INFO', logger_name='testlogger', message='', path='/mnt/D/sr_config/cschranz/Dokumente/GitHub/i-Maintenance/DB-Adapter/kafka-logstash-adapter/src/test-feeder_db-adapter.py', phenomenonTime='2018-02-21T09:41:50.604450+00:00', port='51122', result='-0.217169713979', resultTime='2018-02-07T08:40:51.273061+00:00', stack_info='None', tags='[]', type='logstash')"
      ]
     },
     "execution_count": 137,
     "metadata": {},
     "output_type": "execute_result"
    }
   ],
   "source": [
    "sdf.rdd.first()  # [\"host\"]"
   ]
  },
  {
   "cell_type": "code",
   "execution_count": 138,
   "metadata": {},
   "outputs": [
    {
     "name": "stdout",
     "output_type": "stream",
     "text": [
      "+-----+-----------------------------------+\n",
      "| host|stddev_samp(CAST(result AS DOUBLE))|\n",
      "+-----+-----------------------------------+\n",
      "|iot86|                 0.9934466809448685|\n",
      "+-----+-----------------------------------+\n",
      "\n"
     ]
    }
   ],
   "source": [
    "sdf.createOrReplaceTempView(\"tempTable\")\n",
    "res = sqlCtx.sql(\"\"\"SELECT host, stddev(result)\n",
    "            FROM tempTable\n",
    "            GROUP BY host\"\"\")\n",
    "res.show()"
   ]
  },
  {
   "cell_type": "markdown",
   "metadata": {},
   "source": [
    "# Reading in Spark directly from Elasticsearch\n"
   ]
  },
  {
   "cell_type": "code",
   "execution_count": 139,
   "metadata": {},
   "outputs": [],
   "source": [
    "#RDD = sc.esRDD(\"sw\")"
   ]
  },
  {
   "cell_type": "code",
   "execution_count": 140,
   "metadata": {},
   "outputs": [],
   "source": [
    "import elasticsearch"
   ]
  },
  {
   "cell_type": "code",
   "execution_count": 141,
   "metadata": {},
   "outputs": [
    {
     "name": "stdout",
     "output_type": "stream",
     "text": [
      "Help on package elasticsearch:\n",
      "\n",
      "NAME\n",
      "    elasticsearch\n",
      "\n",
      "PACKAGE CONTENTS\n",
      "    client (package)\n",
      "    compat\n",
      "    connection (package)\n",
      "    connection_pool\n",
      "    exceptions\n",
      "    helpers (package)\n",
      "    serializer\n",
      "    transport\n",
      "\n",
      "DATA\n",
      "    VERSION = (6, 1, 1)\n",
      "    __versionstr__ = '6.1.1'\n",
      "    absolute_import = _Feature((2, 5, 0, 'alpha', 1), (3, 0, 0, 'alpha', 0...\n",
      "\n",
      "VERSION\n",
      "    (6, 1, 1)\n",
      "\n",
      "FILE\n",
      "    /opt/conda/lib/python3.6/site-packages/elasticsearch/__init__.py\n",
      "\n",
      "\n"
     ]
    }
   ],
   "source": [
    "help(elasticsearch)"
   ]
  },
  {
   "cell_type": "code",
   "execution_count": 142,
   "metadata": {},
   "outputs": [],
   "source": [
    "df = sqlCtx.read.format(\"es\")\n"
   ]
  },
  {
   "cell_type": "code",
   "execution_count": 143,
   "metadata": {},
   "outputs": [
    {
     "name": "stdout",
     "output_type": "stream",
     "text": [
      "/opt/conda/bin/python\r\n"
     ]
    }
   ],
   "source": [
    "!echo $PYSPARK_PYTHON"
   ]
  },
  {
   "cell_type": "code",
   "execution_count": 144,
   "metadata": {},
   "outputs": [
    {
     "data": {
      "text/html": [
       "\n",
       "        <div>\n",
       "            <p><b>SparkContext</b></p>\n",
       "\n",
       "            <p><a href=\"http://172.19.0.6:4041\">Spark UI</a></p>\n",
       "\n",
       "            <dl>\n",
       "              <dt>Version</dt>\n",
       "                <dd><code>v2.2.0</code></dd>\n",
       "              <dt>Master</dt>\n",
       "                <dd><code>local[*]</code></dd>\n",
       "              <dt>AppName</dt>\n",
       "                <dd><code>pyspark-shell</code></dd>\n",
       "            </dl>\n",
       "        </div>\n",
       "        "
      ],
      "text/plain": [
       "<SparkContext master=local[*] appName=pyspark-shell>"
      ]
     },
     "execution_count": 144,
     "metadata": {},
     "output_type": "execute_result"
    }
   ],
   "source": [
    "sc"
   ]
  },
  {
   "cell_type": "markdown",
   "metadata": {},
   "source": [
    "# Sniffing"
   ]
  },
  {
   "cell_type": "code",
   "execution_count": 153,
   "metadata": {},
   "outputs": [],
   "source": [
    "from elasticsearch import Elasticsearch\n",
    "\n",
    "# you can specify to sniff on startup to inspect the cluster and load\n",
    "# balance across all nodes\n",
    "# you can also sniff periodically and/or after failure:\n",
    "es = Elasticsearch([{'host': 'elasticsearch', 'port': 9200}],\n",
    "          sniff_on_start=True,\n",
    "          sniff_on_connection_fail=True,\n",
    "          sniffer_timeout=60)"
   ]
  },
  {
   "cell_type": "code",
   "execution_count": null,
   "metadata": {},
   "outputs": [],
   "source": []
  }
 ],
 "metadata": {
  "kernelspec": {
   "display_name": "Python 3",
   "language": "python",
   "name": "python3"
  },
  "language_info": {
   "codemirror_mode": {
    "name": "ipython",
    "version": 3
   },
   "file_extension": ".py",
   "mimetype": "text/x-python",
   "name": "python",
   "nbconvert_exporter": "python",
   "pygments_lexer": "ipython3",
   "version": "3.6.3"
  }
 },
 "nbformat": 4,
 "nbformat_minor": 2
}
